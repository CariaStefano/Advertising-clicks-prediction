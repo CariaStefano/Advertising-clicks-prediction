{
 "cells": [
  {
   "cell_type": "markdown",
   "source": [
    "# Report tecnico progetto seminario ASMLP\n",
    "\n",
    "## Analisi\n",
    "il presente progetto contiene le seguenti analisi:\n",
    "### 1. Analisi descrittiva del dataset:\n",
    "- a. Identificazione della tipologia delle features;\n",
    "- b. Rappresentazione numerica (media, mediana, standard deviation, quartili, moda);\n",
    "- c. Rappresentazione grafica.\n",
    "\n",
    "### 2. Analisi di classificazione:\n",
    "- classificazione."
   ],
   "metadata": {
    "collapsed": false,
    "pycharm": {
     "name": "#%% md\n"
    }
   }
  },
  {
   "cell_type": "markdown",
   "source": [
    "Per prima cosa è stato importato il dataset tramite la libreria Pandas"
   ],
   "metadata": {
    "collapsed": false,
    "pycharm": {
     "name": "#%% md\n"
    }
   }
  },
  {
   "cell_type": "code",
   "execution_count": 1,
   "metadata": {
    "collapsed": true
   },
   "outputs": [],
   "source": [
    "import pandas as pd\n",
    "\n",
    "df= pd.read_csv('datasets/advertising.csv')"
   ]
  },
  {
   "cell_type": "markdown",
   "source": [
    "## a. Identificazione della tipologia delle features;"
   ],
   "metadata": {
    "collapsed": false,
    "pycharm": {
     "name": "#%% md\n"
    }
   }
  },
  {
   "cell_type": "code",
   "execution_count": 2,
   "outputs": [
    {
     "name": "stdout",
     "output_type": "stream",
     "text": [
      "<class 'pandas.core.frame.DataFrame'>\n",
      "RangeIndex: 1000 entries, 0 to 999\n",
      "Data columns (total 10 columns):\n",
      " #   Column                    Non-Null Count  Dtype  \n",
      "---  ------                    --------------  -----  \n",
      " 0   Daily_Time_Spent_on_Site  1000 non-null   float64\n",
      " 1   Age                       1000 non-null   int64  \n",
      " 2   Area_Income               1000 non-null   float64\n",
      " 3   Daily_Internet_Usage      1000 non-null   float64\n",
      " 4   Ad_Topic_Line             1000 non-null   object \n",
      " 5   City                      1000 non-null   object \n",
      " 6   Male                      1000 non-null   int64  \n",
      " 7   Country                   1000 non-null   object \n",
      " 8   Timestamp                 1000 non-null   object \n",
      " 9   Clicked_on_Ad             1000 non-null   int64  \n",
      "dtypes: float64(3), int64(3), object(4)\n",
      "memory usage: 78.2+ KB\n",
      "None\n",
      "Tipologia delle features: \n",
      "\n",
      "Daily_Time_Spent_on_Site:  float64\n",
      "Age:  int64\n",
      "Area_Income:  float64\n",
      "Daily_Internet_Usage:  float64\n",
      "Ad_Topic_Line:  object\n",
      "City:  object\n",
      "Male:  int64\n",
      "Country:  object\n",
      "Timestamp:  object\n",
      "Clicked_on_Ad:  int64\n"
     ]
    }
   ],
   "source": [
    "df.columns= ['Daily_Time_Spent_on_Site', 'Age', 'Area_Income',\n",
    "    'Daily_Internet_Usage', 'Ad_Topic_Line', 'City', 'Male', 'Country',\n",
    "    'Timestamp', 'Clicked_on_Ad']\n",
    "\n",
    "print(df.info())\n",
    "\n",
    "#oppure\n",
    "\n",
    "print(\"Tipologia delle features: \\n\")\n",
    "print(\"Daily_Time_Spent_on_Site: \", df.Daily_Time_Spent_on_Site.dtype)\n",
    "print(\"Age: \",df.Age.dtype)\n",
    "print(\"Area_Income: \", df.Area_Income.dtype)\n",
    "print(\"Daily_Internet_Usage: \", df.Daily_Internet_Usage.dtype)\n",
    "print(\"Ad_Topic_Line: \",df.Ad_Topic_Line.dtype)\n",
    "print(\"City: \", df.City.dtype)\n",
    "print(\"Male: \", df.Male.dtype)\n",
    "print(\"Country: \",df.Country.dtype)\n",
    "print(\"Timestamp: \", df.Timestamp.dtype)\n",
    "print(\"Clicked_on_Ad: \", df.Clicked_on_Ad.dtype)"
   ],
   "metadata": {
    "collapsed": false,
    "pycharm": {
     "name": "#%%\n"
    }
   }
  },
  {
   "cell_type": "markdown",
   "source": [
    "Si è individuata la tipologia delle variabili e si è osservato che non sono presenti valori mancanti."
   ],
   "metadata": {
    "collapsed": false,
    "pycharm": {
     "name": "#%% md\n"
    }
   }
  },
  {
   "cell_type": "markdown",
   "source": [
    "## b. Rappresentazione numerica (media, mediana, standard deviation, quartili, moda)"
   ],
   "metadata": {
    "collapsed": false,
    "pycharm": {
     "name": "#%% md\n"
    }
   }
  },
  {
   "cell_type": "code",
   "execution_count": 4,
   "outputs": [
    {
     "name": "stdout",
     "output_type": "stream",
     "text": [
      "\t Daily_Time_Spent_on_Site\n",
      "median \t\t 68.215\n",
      "mode \t\t [62.26 75.55 77.05 78.76 84.53]\n",
      "count    1000.000000\n",
      "mean       65.000200\n",
      "std        15.853615\n",
      "min        32.600000\n",
      "25%        51.360000\n",
      "50%        68.215000\n",
      "75%        78.547500\n",
      "max        91.430000\n",
      "Name: Daily_Time_Spent_on_Site, dtype: float64 \n",
      "\n",
      "\t Age\n",
      "median \t\t 35.0\n",
      "mode \t\t [31]\n",
      "count    1000.000000\n",
      "mean       36.009000\n",
      "std         8.785562\n",
      "min        19.000000\n",
      "25%        29.000000\n",
      "50%        35.000000\n",
      "75%        42.000000\n",
      "max        61.000000\n",
      "Name: Age, dtype: float64 \n",
      "\n",
      "\t Area_Income\n",
      "median \t\t 57012.3\n",
      "mode \t\t [13996.5  14548.06 14775.5  15598.29 15879.1  17709.98 18368.57 18819.34\n",
      " 19345.36 19991.72 20592.99 20856.54 21644.91 21773.22 22205.74 22456.04\n",
      " 22473.08 23410.75 23821.72 23936.86 23942.61 23975.35 24030.06 24078.93\n",
      " 24316.61 24593.33 24852.9  25371.52 25408.21 25583.29 25598.75 25603.93\n",
      " 25682.65 25686.34 25739.09 25767.16 26023.99 26130.93 27073.27 27086.4\n",
      " 27241.11 27262.51 27508.41 27964.6  28019.09 28028.74 28186.65 28210.03\n",
      " 28265.81 28271.84 28275.48 28357.27 28387.42 28495.21 28679.93 29359.2\n",
      " 29398.61 29727.79 29875.8  30227.98 30487.48 30726.26 30976.   31072.44\n",
      " 31087.54 31092.93 31215.88 31265.75 31281.01 31343.39 31523.09 31947.65\n",
      " 31998.72 32006.82 32252.38 32536.98 32549.95 32593.59 32635.7  32689.04\n",
      " 32708.94 32847.53 33147.19 33239.2  33258.09 33293.78 33502.57 33553.9\n",
      " 33601.84 33813.08 33951.63 33987.27 34127.21 34191.13 34191.23 34309.24\n",
      " 34418.09 34886.01 34903.67 34942.26 35253.98 35349.26 35350.55 35466.8\n",
      " 35521.88 35684.82 35764.49 36037.33 36424.94 36497.22 36752.24 36782.38\n",
      " 36834.04 36884.23 36913.51 37212.54 37334.78 37345.24 37345.34 37605.11\n",
      " 37713.23 37838.72 37908.29 38067.08 38260.89 38349.78 38427.66 38609.2\n",
      " 38641.2  38645.4  38745.29 38817.4  38987.42 39031.89 39131.53 39132.64\n",
      " 39193.45 39211.49 39552.49 39616.   39699.13 39723.97 39799.73 39809.69\n",
      " 39840.55 39939.39 40135.06 40159.2  40182.84 40183.75 40243.82 40345.49\n",
      " 40468.53 40478.83 40763.13 40926.93 41059.64 41097.17 41229.16 41232.89\n",
      " 41335.84 41356.31 41417.27 41521.28 41547.62 41629.86 41768.13 41851.38\n",
      " 41866.55 41884.64 41920.79 42042.95 42078.89 42136.33 42162.9  42191.61\n",
      " 42251.59 42362.49 42415.72 42581.23 42650.32 42696.67 42760.22 42838.29\n",
      " 42861.42 42898.21 42907.89 42993.48 42995.8  43073.78 43111.41 43155.19\n",
      " 43241.19 43241.88 43299.63 43313.73 43386.07 43444.86 43450.11 43573.66\n",
      " 43662.1  43698.53 43708.88 43778.88 43870.51 43881.73 43974.49 44078.24\n",
      " 44174.25 44217.68 44248.52 44275.13 44304.13 44307.18 44490.09 44559.43\n",
      " 44893.71 45400.5  45465.25 45522.44 45580.92 45593.93 45632.51 45716.48\n",
      " 45800.48 45945.88 45959.86 46004.31 46024.29 46033.73 46132.18 46160.63\n",
      " 46179.97 46197.59 46239.14 46339.25 46403.18 46422.76 46473.14 46500.11\n",
      " 46557.92 46653.75 46693.76 46722.07 46737.34 46780.09 46868.53 46931.03\n",
      " 46964.11 46974.15 47051.02 47139.21 47160.53 47169.14 47258.59 47314.45\n",
      " 47338.94 47357.39 47391.95 47447.89 47510.42 47575.44 47638.3  47682.28\n",
      " 47708.42 47861.93 47929.83 47968.32 47997.75 48098.86 48206.04 48246.6\n",
      " 48335.2  48347.64 48376.14 48453.55 48467.68 48537.18 48554.45 48679.54\n",
      " 48758.92 48761.14 48826.14 48852.58 48867.36 48867.67 48913.07 48918.55\n",
      " 49030.03 49090.51 49101.67 49111.47 49158.5  49206.4  49269.98 49282.87\n",
      " 49309.14 49325.48 49457.48 49525.37 49544.41 49597.08 49742.83 49822.78\n",
      " 49850.52 49911.25 49942.66 49957.   49995.63 50038.65 50055.33 50086.17\n",
      " 50147.72 50199.77 50216.01 50278.89 50333.72 50335.46 50337.93 50356.06\n",
      " 50439.49 50457.01 50468.36 50491.45 50506.44 50628.31 50666.5  50671.6\n",
      " 50711.68 50723.67 50760.23 50820.74 50950.24 50960.08 50971.73 50983.75\n",
      " 51013.37 51015.11 51049.47 51067.54 51119.93 51163.14 51171.23 51257.26\n",
      " 51315.38 51317.33 51363.16 51409.45 51463.17 51473.28 51501.38 51510.18\n",
      " 51512.66 51593.46 51600.47 51633.34 51636.12 51636.92 51662.24 51691.55\n",
      " 51739.63 51772.58 51812.71 51816.27 51824.01 51847.26 51864.77 51868.85\n",
      " 51869.87 51900.03 51920.49 51975.41 52011.   52079.18 52097.32 52140.04\n",
      " 52177.4  52178.98 52182.23 52252.91 52261.73 52336.64 52340.1  52400.88\n",
      " 52416.18 52462.04 52520.75 52530.1  52563.22 52581.16 52656.13 52686.47\n",
      " 52691.79 52723.34 52736.33 52802.   52802.58 52968.22 53012.94 53041.77\n",
      " 53042.51 53049.44 53058.91 53167.68 53185.34 53188.69 53223.58 53309.61\n",
      " 53336.76 53350.11 53412.32 53431.35 53441.69 53549.94 53575.48 53647.81\n",
      " 53673.08 53700.57 53767.12 53817.02 53852.85 53898.89 53922.43 54045.39\n",
      " 54106.21 54251.78 54286.1  54324.73 54429.17 54520.14 54541.56 54645.2\n",
      " 54725.87 54755.71 54773.99 54774.77 54787.37 54806.18 54875.95 54952.42\n",
      " 54989.93 55002.05 55015.08 55041.6  55121.65 55130.96 55187.85 55195.61\n",
      " 55316.97 55336.18 55353.41 55358.88 55368.67 55411.06 55424.24 55479.62\n",
      " 55499.69 55605.92 55642.32 55677.12 55764.43 55787.58 55901.12 55942.04\n",
      " 55984.89 55993.68 56067.38 56113.37 56129.89 56180.93 56194.56 56216.57\n",
      " 56242.7  56366.88 56369.74 56379.3  56394.82 56435.6  56457.01 56570.06\n",
      " 56593.8  56605.12 56637.59 56681.65 56683.32 56694.12 56725.47 56729.78\n",
      " 56735.14 56735.83 56759.48 56770.79 56782.18 56791.75 56884.74 56909.3\n",
      " 56974.51 56984.09 56986.73 57009.76 57014.84 57032.36 57179.91 57195.96\n",
      " 57260.41 57330.43 57425.87 57518.73 57519.64 57545.56 57587.   57594.7\n",
      " 57667.99 57669.41 57691.95 57737.51 57739.03 57756.89 57777.11 57806.03\n",
      " 57844.96 57846.68 57868.44 57877.15 57887.64 57983.3  58019.64 58037.66\n",
      " 58114.3  58151.87 58183.04 58235.21 58287.86 58295.82 58337.18 58342.63\n",
      " 58348.41 58363.12 58443.99 58476.57 58526.04 58543.94 58576.12 58633.63\n",
      " 58638.75 58677.69 58776.67 58820.16 58847.07 58849.77 58909.36 58920.44\n",
      " 58953.01 58966.22 58996.12 58996.56 59047.91 59106.12 59144.02 59240.24\n",
      " 59243.46 59340.99 59397.89 59419.78 59422.47 59448.44 59457.52 59550.05\n",
      " 59593.56 59610.81 59621.02 59677.64 59683.16 59761.56 59784.18 59785.94\n",
      " 59797.64 59886.58 59967.19 59998.5  60015.57 60082.66 60151.77 60188.38\n",
      " 60192.72 60223.52 60248.97 60283.47 60283.98 60309.58 60315.19 60333.38\n",
      " 60372.64 60465.72 60514.05 60550.66 60575.99 60583.02 60637.62 60638.38\n",
      " 60641.09 60803.   60803.37 60805.93 60812.77 60843.32 60845.55 60879.48\n",
      " 60938.73 60953.93 60968.62 60997.84 61004.51 61005.87 61009.1  61039.13\n",
      " 61067.58 61068.26 61117.5  61142.33 61161.29 61172.07 61227.59 61228.96\n",
      " 61230.03 61270.14 61275.18 61383.79 61389.5  61428.18 61467.33 61526.25\n",
      " 61601.05 61608.23 61610.05 61617.98 61625.87 61628.72 61652.53 61690.93\n",
      " 61747.98 61757.12 61770.34 61771.9  61806.31 61833.9  61840.26 61922.06\n",
      " 62053.37 62060.11 62109.8  62161.26 62204.93 62238.58 62312.23 62318.38\n",
      " 62330.75 62336.39 62378.05 62430.55 62463.7  62466.1  62475.99 62491.01\n",
      " 62572.88 62589.84 62657.53 62667.51 62669.59 62722.57 62729.4  62772.42\n",
      " 62784.85 62790.96 62792.43 62927.96 62939.5  63001.03 63006.14 63060.55\n",
      " 63071.34 63100.13 63102.19 63107.88 63109.74 63115.34 63126.96 63274.88\n",
      " 63296.87 63319.99 63336.85 63363.04 63373.7  63394.41 63429.18 63430.33\n",
      " 63450.96 63493.6  63497.62 63528.8  63551.67 63580.22 63649.04 63664.32\n",
      " 63727.5  63764.28 63879.72 63883.81 63891.29 63924.82 63936.5  63965.16\n",
      " 63966.72 63976.44 64008.55 64011.26 64021.55 64045.93 64122.36 64147.86\n",
      " 64188.5  64235.51 64238.71 64264.25 64267.88 64287.78 64395.85 64410.8\n",
      " 64433.99 64447.77 64564.07 64631.22 64654.66 64698.58 64775.1  64802.33\n",
      " 64828.   64902.47 64927.19 64929.61 65044.59 65120.86 65172.22 65180.97\n",
      " 65186.58 65227.79 65229.13 65280.16 65421.39 65461.92 65496.78 65499.93\n",
      " 65576.05 65620.25 65653.47 65704.79 65756.36 65773.49 65791.17 65816.38\n",
      " 65826.53 65834.97 65856.74 65882.81 65883.39 65899.68 65953.76 65956.71\n",
      " 65963.37 66025.11 66027.31 66050.63 66107.84 66176.97 66187.58 66193.81\n",
      " 66198.66 66200.96 66217.31 66225.72 66262.59 66263.37 66265.34 66269.49\n",
      " 66281.46 66291.67 66345.1  66348.95 66359.32 66412.04 66429.84 66431.87\n",
      " 66504.16 66522.79 66524.8  66541.05 66572.39 66574.   66618.21 66624.6\n",
      " 66629.61 66636.84 66691.23 66699.12 66744.65 66773.83 66784.81 66815.54\n",
      " 66861.67 66873.9  66929.03 66980.27 67033.34 67050.16 67058.72 67080.94\n",
      " 67113.46 67132.46 67186.54 67240.25 67279.06 67301.39 67307.43 67323.\n",
      " 67384.31 67430.96 67432.49 67479.62 67511.86 67516.07 67526.92 67575.12\n",
      " 67633.44 67669.06 67682.32 67686.16 67714.82 67744.56 67781.31 67782.17\n",
      " 67866.95 67938.77 67990.84 68016.9  68030.18 68033.54 68094.85 68211.35\n",
      " 68305.91 68324.48 68333.01 68348.99 68357.96 68441.85 68447.17 68448.94\n",
      " 68519.96 68614.98 68713.7  68717.   68737.75 68783.45 68787.09 68862.\n",
      " 68863.95 68877.02 68962.32 69112.84 69285.69 69428.73 69438.04 69456.83\n",
      " 69476.42 69481.85 69562.46 69646.35 69710.51 69718.19 69758.31 69775.75\n",
      " 69784.85 69805.7  69868.48 69869.66 69874.18 70005.51 70012.83 70053.27\n",
      " 70179.11 70185.06 70203.74 70225.6  70232.95 70324.8  70377.23 70410.11\n",
      " 70449.04 70492.6  70495.64 70505.06 70510.59 70547.16 70575.6  70582.55\n",
      " 70592.81 70701.31 70783.94 70889.68 71055.22 71136.49 71157.05 71222.4\n",
      " 71228.44 71296.67 71384.57 71392.53 71455.62 71511.08 71718.51 71727.51\n",
      " 71881.84 72042.85 72154.68 72188.9  72196.29 72203.96 72209.99 72270.88\n",
      " 72272.9  72325.91 72330.57 72423.97 72524.86 72553.94 72683.35 72684.44\n",
      " 72707.87 72802.42 72948.76 73049.3  73104.47 73174.19 73207.15 73234.87\n",
      " 73347.67 73392.28 73413.87 73474.82 73538.09 73600.28 73608.99 73687.5\n",
      " 73863.25 73882.91 73884.48 73889.99 73910.9  73941.91 74024.61 74159.69\n",
      " 74166.24 74180.05 74430.08 74445.18 74535.94 74543.81 74623.27 74780.74\n",
      " 74903.41 75044.35 75180.2  75254.88 75265.96 75509.61 75524.78 75535.14\n",
      " 75560.65 75687.46 75769.82 75805.12 76003.47 76246.96 76368.31 76408.19\n",
      " 76435.3  76480.16 76560.59 76893.84 76984.21 77143.61 77220.42 77460.07\n",
      " 77567.85 77871.75 77988.71 78092.95 78119.5  78520.99 79332.33 79484.8 ]\n",
      "count     1000.000000\n",
      "mean     55000.000080\n",
      "std      13414.634022\n",
      "min      13996.500000\n",
      "25%      47031.802500\n",
      "50%      57012.300000\n",
      "75%      65470.635000\n",
      "max      79484.800000\n",
      "Name: Area_Income, dtype: float64 \n",
      "\n",
      "\t Daily_Internet_Usage\n",
      "median \t\t 183.13\n",
      "mode \t\t [113.53 115.91 117.3  119.3  120.06 125.45 132.38 135.24 136.18 138.35\n",
      " 158.22 161.16 162.44 164.25 167.22 169.4  178.75 182.65 190.95 194.23\n",
      " 201.15 211.87 214.42 215.18 219.72 222.11 223.16 228.81 230.36 234.75\n",
      " 235.28 236.96 247.05 256.4 ]\n",
      "count    1000.000000\n",
      "mean      180.000100\n",
      "std        43.902339\n",
      "min       104.780000\n",
      "25%       138.830000\n",
      "50%       183.130000\n",
      "75%       218.792500\n",
      "max       269.960000\n",
      "Name: Daily_Internet_Usage, dtype: float64 \n",
      "\n",
      "\t Male\n",
      "median \t\t 0.0\n",
      "mode \t\t [0]\n",
      "count    1000.000000\n",
      "mean        0.481000\n",
      "std         0.499889\n",
      "min         0.000000\n",
      "25%         0.000000\n",
      "50%         0.000000\n",
      "75%         1.000000\n",
      "max         1.000000\n",
      "Name: Male, dtype: float64 \n",
      "\n",
      "\t Clicked_on_Ad\n",
      "median \t\t 0.5\n",
      "mode \t\t [0 1]\n",
      "count    1000.00000\n",
      "mean        0.50000\n",
      "std         0.50025\n",
      "min         0.00000\n",
      "25%         0.00000\n",
      "50%         0.50000\n",
      "75%         1.00000\n",
      "max         1.00000\n",
      "Name: Clicked_on_Ad, dtype: float64 \n",
      "\n"
     ]
    }
   ],
   "source": [
    "for key, value in df.iteritems():\n",
    "    if df[key].dtype== 'int64' or df[key].dtype== 'float64' :\n",
    "        print(\"\\t\", df[key].name)\n",
    "        print(\"median \\t\\t\", df[key].median())\n",
    "        print(\"mode \\t\\t\", df[key].mode().unique())\n",
    "        print(df[key].describe(), \"\\n\")"
   ],
   "metadata": {
    "collapsed": false,
    "pycharm": {
     "name": "#%%\n"
    }
   }
  },
  {
   "cell_type": "markdown",
   "source": [
    "Per ciascuna variabile oltre alle informazioni ottenute dalla funzione \"describe()\" si sono aggiunte le informazioni su\n",
    "mediana e moda."
   ],
   "metadata": {
    "collapsed": false,
    "pycharm": {
     "name": "#%% md\n"
    }
   }
  },
  {
   "cell_type": "markdown",
   "source": [
    "## c. Rappresentazione grafica (se possibile)"
   ],
   "metadata": {
    "collapsed": false
   }
  },
  {
   "cell_type": "code",
   "execution_count": 3,
   "outputs": [
    {
     "name": "stdout",
     "output_type": "stream",
     "text": [
      "Male           Female  Male\n",
      "Clicked_on_Ad              \n",
      "click             269   231\n",
      "not click         250   250\n"
     ]
    },
    {
     "data": {
      "text/plain": "<Figure size 432x288 with 1 Axes>",
      "image/png": "[encoded data removed]"
     },
     "metadata": {},
     "output_type": "display_data"
    },
    {
     "data": {
      "text/plain": "<Figure size 432x288 with 1 Axes>",
      "image/png": "[encoded data removed]"
     },
     "metadata": {},
     "output_type": "display_data"
    }
   ],
   "source": [
    "import matplotlib.pyplot as plt\n",
    "\n",
    "\n",
    "df['Male']= df['Male'].map({1: 'Male', 0:'Female'})\n",
    "df['Clicked_on_Ad']= df['Clicked_on_Ad'].map({1: 'click', 0:'not click'})\n",
    "contincency_table= pd.crosstab(df.Clicked_on_Ad, df.Male)\n",
    "print(contincency_table)\n",
    "\n",
    "contincency_table.plot.pie(y='Female')\n",
    "plt.show()\n",
    "contincency_table.plot.pie(y='Male')\n",
    "plt.show()\n",
    "\n",
    "#riutiliziamo la funzione map per ripristinare i valori di partenza perchè sarà utile nella fase di previsione.\n",
    "df['Male']= df['Male'].map({'Male': 1, 'Female':0})\n",
    "df['Clicked_on_Ad']= df['Clicked_on_Ad'].map({'click': 1, 'not click':0})"
   ],
   "metadata": {
    "collapsed": false,
    "pycharm": {
     "name": "#%%\n"
    }
   }
  },
  {
   "cell_type": "markdown",
   "source": [
    "Si può notare che non c'è una grossa differenza tra uomo e donna per i click sulla pubblicità"
   ],
   "metadata": {
    "collapsed": false
   }
  },
  {
   "cell_type": "code",
   "execution_count": 4,
   "outputs": [
    {
     "data": {
      "text/plain": "<Figure size 360x360 with 1 Axes>",
      "image/png": "[encoded data removed]"
     },
     "metadata": {
      "needs_background": "light"
     },
     "output_type": "display_data"
    }
   ],
   "source": [
    "import seaborn as sns\n",
    "\n",
    "\n",
    "sns.displot(df['Age'], kde='True')\n",
    "plt.show()"
   ],
   "metadata": {
    "collapsed": false,
    "pycharm": {
     "name": "#%%\n"
    }
   }
  },
  {
   "cell_type": "markdown",
   "source": [
    "Dal grafico possiamo assumere che la variabile 'Age' ha una distribuzione normale"
   ],
   "metadata": {
    "collapsed": false,
    "pycharm": {
     "name": "#%% md\n"
    }
   }
  },
  {
   "cell_type": "code",
   "execution_count": null,
   "outputs": [],
   "source": [
    "sns.displot(x='Age' , y='Daily_Time_Spent_on_Site' ,data=df, kind='kde', rug=True, )\n",
    "plt.show()"
   ],
   "metadata": {
    "collapsed": false,
    "pycharm": {
     "name": "#%%\n"
    }
   }
  },
  {
   "cell_type": "markdown",
   "source": [
    "il grafico mostra che gli utenti più giovani (25-40 anni) sono quelli che  spendono più tempo sul sito"
   ],
   "metadata": {
    "collapsed": false,
    "pycharm": {
     "name": "#%% md\n"
    }
   }
  },
  {
   "cell_type": "code",
   "execution_count": 5,
   "outputs": [
    {
     "data": {
      "text/plain": "<Figure size 576x576 with 1 Axes>",
      "image/png": "[encoded data removed]"
     },
     "metadata": {
      "needs_background": "light"
     },
     "output_type": "display_data"
    }
   ],
   "source": [
    "f, ax = plt.subplots(figsize=(8, 8))\n",
    "cmap = sns.cubehelix_palette(as_cmap=True, start=0, dark=0, light=3, reverse=True)\n",
    "sns.kdeplot(df[\"Daily_Time_Spent_on_Site\"], y=df[\"Daily_Internet_Usage\"],\n",
    "                cmap=cmap, n_levels=100, shade=True);\n",
    "plt.show()"
   ],
   "metadata": {
    "collapsed": false,
    "pycharm": {
     "name": "#%%\n"
    }
   }
  },
  {
   "cell_type": "markdown",
   "source": [
    "Dal grafico è possibile osservare la relazione tra la variabile \"Daily_Time_Spent_on_Site\" e \"Daily_Internet_Usage\".\n",
    "Le 2 aree più luminose sono i punti di maggiore densità in cui si concentrano il maggior numero di le osservazioni."
   ],
   "metadata": {
    "collapsed": false,
    "pycharm": {
     "name": "#%% md\n"
    }
   }
  },
  {
   "cell_type": "markdown",
   "source": [
    "## Preprocessing\n"
   ],
   "metadata": {
    "collapsed": false,
    "pycharm": {
     "name": "#%% md\n"
    }
   }
  },
  {
   "cell_type": "code",
   "execution_count": 6,
   "outputs": [
    {
     "name": "stdout",
     "output_type": "stream",
     "text": [
      "                             Ad_Topic_Line       City Country\n",
      "count                                 1000       1000    1000\n",
      "unique                                1000        969     237\n",
      "top     Cloned 5thgeneration orchestration  Lisamouth  France\n",
      "freq                                     1          3       9\n"
     ]
    }
   ],
   "source": [
    "object_variables = ['Ad_Topic_Line', 'City', 'Country']\n",
    "print(df[object_variables].describe(include=['O']))\n"
   ],
   "metadata": {
    "collapsed": false,
    "pycharm": {
     "name": "#%%\n"
    }
   }
  },
  {
   "cell_type": "markdown",
   "source": [
    "Come già osservato in precedenza, le variabili \"City\" e \"Ad_Topic_Line\"\n",
    "contengono troppe osservazioni uniche (rispettivamente 969 e 1000).\n",
    "Poichè in genere è molto dificile fare previsioni senza che esista\n",
    "un data patern queste variabile saranno escluse. La variabile Country ha\n",
    "un unico elemento ripetuto 9 volte (France). Esploriamo meglio la variabile."
   ],
   "metadata": {
    "collapsed": false
   }
  },
  {
   "cell_type": "code",
   "execution_count": 7,
   "outputs": [
    {
     "name": "stdout",
     "output_type": "stream",
     "text": [
      "France            9\n",
      "Czech Republic    9\n",
      "Peru              8\n",
      "Turkey            8\n",
      "Greece            8\n",
      "Senegal           8\n",
      "Liberia           8\n",
      "Australia         8\n",
      "South Africa      8\n",
      "Micronesia        8\n",
      "Cyprus            8\n",
      "Afghanistan       8\n",
      "Taiwan            7\n",
      "Cambodia          7\n",
      "Luxembourg        7\n",
      "Name: Country, dtype: int64\n"
     ]
    }
   ],
   "source": [
    "print(df[\"Country\"].value_counts()[:15])"
   ],
   "metadata": {
    "collapsed": false,
    "pycharm": {
     "name": "#%%\n"
    }
   }
  },
  {
   "cell_type": "markdown",
   "source": [
    "Nel dataset sono presenti 237 countries ma non è presente un Country dominante\n",
    "Tanti elementi unici non consentiranno a un modello di machine learning di stabilire\n",
    "relazioni. Per questo motivo anche Country verrà esclusa."
   ],
   "metadata": {
    "collapsed": false,
    "pycharm": {
     "name": "#%% md\n"
    }
   }
  },
  {
   "cell_type": "code",
   "execution_count": 8,
   "outputs": [],
   "source": [
    "df = df.drop(['Ad_Topic_Line', 'City', 'Country'], axis=1)"
   ],
   "metadata": {
    "collapsed": false,
    "pycharm": {
     "name": "#%%\n"
    }
   }
  },
  {
   "cell_type": "markdown",
   "source": [
    "Escludiamo le variabili."
   ],
   "metadata": {
    "collapsed": false,
    "pycharm": {
     "name": "#%% md\n"
    }
   }
  },
  {
   "cell_type": "code",
   "execution_count": 9,
   "outputs": [
    {
     "data": {
      "text/plain": "   Daily_Time_Spent_on_Site  Age  Area_Income  Daily_Internet_Usage  Male  \\\n0                     68.95   35     61833.90                256.09     0   \n1                     80.23   31     68441.85                193.77     1   \n2                     69.47   26     59785.94                236.50     0   \n3                     74.15   29     54806.18                245.89     1   \n4                     68.37   35     73889.99                225.58     0   \n\n   Clicked_on_Ad  Month  Day of month  Day of week  Hour  \n0              0      3            27            6     0  \n1              0      4             4            0     1  \n2              0      3            13            6    20  \n3              0      1            10            6     2  \n4              0      6             3            4     3  ",
      "text/html": "<div>\n<style scoped>\n    .dataframe tbody tr th:only-of-type {\n        vertical-align: middle;\n    }\n\n    .dataframe tbody tr th {\n        vertical-align: top;\n    }\n\n    .dataframe thead th {\n        text-align: right;\n    }\n</style>\n<table border=\"1\" class=\"dataframe\">\n  <thead>\n    <tr style=\"text-align: right;\">\n      <th></th>\n      <th>Daily_Time_Spent_on_Site</th>\n      <th>Age</th>\n      <th>Area_Income</th>\n      <th>Daily_Internet_Usage</th>\n      <th>Male</th>\n      <th>Clicked_on_Ad</th>\n      <th>Month</th>\n      <th>Day of month</th>\n      <th>Day of week</th>\n      <th>Hour</th>\n    </tr>\n  </thead>\n  <tbody>\n    <tr>\n      <th>0</th>\n      <td>68.95</td>\n      <td>35</td>\n      <td>61833.90</td>\n      <td>256.09</td>\n      <td>0</td>\n      <td>0</td>\n      <td>3</td>\n      <td>27</td>\n      <td>6</td>\n      <td>0</td>\n    </tr>\n    <tr>\n      <th>1</th>\n      <td>80.23</td>\n      <td>31</td>\n      <td>68441.85</td>\n      <td>193.77</td>\n      <td>1</td>\n      <td>0</td>\n      <td>4</td>\n      <td>4</td>\n      <td>0</td>\n      <td>1</td>\n    </tr>\n    <tr>\n      <th>2</th>\n      <td>69.47</td>\n      <td>26</td>\n      <td>59785.94</td>\n      <td>236.50</td>\n      <td>0</td>\n      <td>0</td>\n      <td>3</td>\n      <td>13</td>\n      <td>6</td>\n      <td>20</td>\n    </tr>\n    <tr>\n      <th>3</th>\n      <td>74.15</td>\n      <td>29</td>\n      <td>54806.18</td>\n      <td>245.89</td>\n      <td>1</td>\n      <td>0</td>\n      <td>1</td>\n      <td>10</td>\n      <td>6</td>\n      <td>2</td>\n    </tr>\n    <tr>\n      <th>4</th>\n      <td>68.37</td>\n      <td>35</td>\n      <td>73889.99</td>\n      <td>225.58</td>\n      <td>0</td>\n      <td>0</td>\n      <td>6</td>\n      <td>3</td>\n      <td>4</td>\n      <td>3</td>\n    </tr>\n  </tbody>\n</table>\n</div>"
     },
     "execution_count": 9,
     "metadata": {},
     "output_type": "execute_result"
    }
   ],
   "source": [
    "df['Timestamp'] = pd.to_datetime(df['Timestamp'])\n",
    "df['Month'] = df['Timestamp'].dt.month\n",
    "df['Day of month'] = df['Timestamp'].dt.day\n",
    "df['Day of week'] = df['Timestamp'].dt.dayofweek\n",
    "df['Hour'] = df['Timestamp'].dt.hour\n",
    "df = df.drop(['Timestamp'], axis=1)\n",
    "\n",
    "df.head()"
   ],
   "metadata": {
    "collapsed": false,
    "pycharm": {
     "name": "#%%\n"
    }
   }
  },
  {
   "cell_type": "markdown",
   "source": [
    "Si è proceduto a dividere la variabile \"timestamp\" in:\n",
    "\"Month\", \"Day of manth\", \"Day of week\", \"Hour\". In questo modo\n",
    "si possono agevolmente elaborare le informazioni sul giorno del\n",
    "mese, della settimana e l'ora in cui la pubblicità è stata cliccata."
   ],
   "metadata": {
    "collapsed": false,
    "pycharm": {
     "name": "#%% md\n"
    }
   }
  },
  {
   "cell_type": "code",
   "execution_count": 10,
   "outputs": [],
   "source": [
    "from sklearn.model_selection import train_test_split\n",
    "from sklearn.preprocessing import StandardScaler\n",
    "\n",
    "X = df[['Daily_Time_Spent_on_Site', 'Age', 'Area_Income', 'Daily_Internet_Usage',\n",
    "              'Male', 'Month', 'Day of month', 'Day of week']]\n",
    "y = df['Clicked_on_Ad']\n",
    "X_train, X_test, y_train, y_test = train_test_split(X, y, test_size=0.33, random_state=0)\n",
    "\n",
    "\n",
    "sc = StandardScaler()\n",
    "sc.fit(X_train)\n",
    "X_train_std = sc.transform(X_train)\n",
    "X_test_std = sc.transform(X_test)"
   ],
   "metadata": {
    "collapsed": false,
    "pycharm": {
     "name": "#%%\n"
    }
   }
  },
  {
   "cell_type": "markdown",
   "source": [
    "il dataset è stato diviso in training e test set. Tutte le variabili, a eccezione di\n",
    "\"Clicked_on_Ad\"(variabile da predire-->y) saranno le variabili input (x). Tramite la funzione \"StandardScaler()\"\n",
    "si sono standardizzate le features."
   ],
   "metadata": {
    "collapsed": false,
    "pycharm": {
     "name": "#%% md\n"
    }
   }
  },
  {
   "cell_type": "markdown",
   "source": [
    "## Logistic Regression model\n",
    "il primo modello importato sarà un Logistic Regression model."
   ],
   "metadata": {
    "collapsed": false,
    "pycharm": {
     "name": "#%% md\n"
    }
   }
  },
  {
   "cell_type": "code",
   "execution_count": 11,
   "outputs": [
    {
     "name": "stdout",
     "output_type": "stream",
     "text": [
      "\n",
      "Logistic regression accuracy 0.96970:\n",
      "\n",
      "Confusion Matrix:\n",
      "[[174   5]\n",
      " [  5 146]]\n",
      "Misclassified samples: 10\n"
     ]
    }
   ],
   "source": [
    "from sklearn.linear_model import LogisticRegression\n",
    "from sklearn.metrics import accuracy_score\n",
    "from sklearn.metrics import confusion_matrix\n",
    "\n",
    "model1 = LogisticRegression()\n",
    "model1.fit(X_train_std, y_train)\n",
    "predictions_LR = model1.predict(X_test_std)\n",
    "\n",
    "print('\\nLogistic regression accuracy %.5f:'% accuracy_score(predictions_LR, y_test))\n",
    "print('\\nConfusion Matrix:')\n",
    "print(confusion_matrix(predictions_LR, y_test))\n",
    "print('Misclassified samples: %d' % (y_test != predictions_LR).sum())"
   ],
   "metadata": {
    "collapsed": false,
    "pycharm": {
     "name": "#%%\n"
    }
   }
  },
  {
   "cell_type": "markdown",
   "source": [
    "Il modello ha un accuratezza di 0.96970 . Dalla matrice di confusione il modello risulta aver calssificato erroneamente 10 volte."
   ],
   "metadata": {
    "collapsed": false,
    "pycharm": {
     "name": "#%% md\n"
    }
   }
  },
  {
   "cell_type": "markdown",
   "source": [
    "## DecisionTreeClassifier"
   ],
   "metadata": {
    "collapsed": false
   }
  },
  {
   "cell_type": "code",
   "execution_count": 12,
   "outputs": [
    {
     "name": "stdout",
     "output_type": "stream",
     "text": [
      "\n",
      "Decision Tree accuracy: 0.92424\n",
      "\n",
      "Confusion Matrix:\n",
      "[[163   9]\n",
      " [ 16 142]]\n",
      "Misclassified samples: 25\n"
     ]
    }
   ],
   "source": [
    "from sklearn.tree import DecisionTreeClassifier\n",
    "\n",
    "model2 = DecisionTreeClassifier()\n",
    "model2.fit(X_train_std, y_train)\n",
    "predictions_DT = model2.predict(X_test_std)\n",
    "\n",
    "print('\\nDecision Tree accuracy: %.5f'% accuracy_score(predictions_DT, y_test))\n",
    "print('\\nConfusion Matrix:')\n",
    "print(confusion_matrix(predictions_DT, y_test))\n",
    "print('Misclassified samples: %d' % (y_test != predictions_DT).sum())"
   ],
   "metadata": {
    "collapsed": false,
    "pycharm": {
     "name": "#%%\n"
    }
   }
  },
  {
   "cell_type": "markdown",
   "source": [
    "Il modello ha un accuratezza di 0.92424 . Dalla matrice di confusione il modello risulta aver calssificato erroneamente 25 volte."
   ],
   "metadata": {
    "collapsed": false,
    "pycharm": {
     "name": "#%% md\n"
    }
   }
  },
  {
   "cell_type": "markdown",
   "source": [
    "## Perceptron"
   ],
   "metadata": {
    "collapsed": false
   }
  },
  {
   "cell_type": "code",
   "execution_count": 13,
   "outputs": [
    {
     "name": "stdout",
     "output_type": "stream",
     "text": [
      "(330,)\n",
      "Perceptron Accuracy: 0.96667\n",
      "[[174   6]\n",
      " [  5 145]]\n",
      "Misclassified samples: 11\n"
     ]
    }
   ],
   "source": [
    "from sklearn.linear_model import Perceptron\n",
    "\n",
    "ppn = Perceptron(max_iter=40, eta0=0.1, random_state=0)\n",
    "ppn.fit(X_train_std, y_train)\n",
    "from sklearn.linear_model import Perceptron\n",
    "\n",
    "ppn = Perceptron(max_iter=40, eta0=0.1, random_state=0)\n",
    "ppn.fit(X_train_std, y_train)\n",
    "print(y_test.shape)\n",
    "y_pred = ppn.predict(X_test_std)\n",
    "\n",
    "print('Perceptron Accuracy: %.5f' % accuracy_score(y_test, y_pred))\n",
    "print(confusion_matrix(y_pred, y_test))\n",
    "print('Misclassified samples: %d' % (y_test != y_pred).sum())"
   ],
   "metadata": {
    "collapsed": false,
    "pycharm": {
     "name": "#%%\n"
    }
   }
  },
  {
   "cell_type": "markdown",
   "source": [
    "Il modello ha un accuratezza di 0.96667 . Dalla matrice di confusione il modello risulta aver calssificato erroneamente 11 volte."
   ],
   "metadata": {
    "collapsed": false,
    "pycharm": {
     "name": "#%% md\n"
    }
   }
  },
  {
   "cell_type": "markdown",
   "source": [
    "## Conclusioni\n",
    "Sono state utilizzati 3 differenti modelli per la classificazione:\n",
    "- il modello di regressione logistica;\n",
    "- il decision tree model\n",
    "- il modello utilizzando l'algoritmo Perceptron\n",
    "\n",
    "Il miglior modello di classificazione su un campione di 330 osservazioni è risultato\n",
    "essere il modello di regressione logistica (10 malclassificati). Il secondo miglior classificatore è stato il modello che utilizza l'algoritmo Perceptron (11 malclassificati) e infine il modello che ha avuto performance peggiori è stato il decision tree model (25 malclassificati).\n",
    "\n"
   ],
   "metadata": {
    "collapsed": false,
    "pycharm": {
     "name": "#%% md\n"
    }
   }
  }
 ],
 "metadata": {
  "kernelspec": {
   "display_name": "Python 3",
   "language": "python",
   "name": "python3"
  },
  "language_info": {
   "codemirror_mode": {
    "name": "ipython",
    "version": 2
   },
   "file_extension": ".py",
   "mimetype": "text/x-python",
   "name": "python",
   "nbconvert_exporter": "python",
   "pygments_lexer": "ipython2",
   "version": "2.7.6"
  }
 },
 "nbformat": 4,
 "nbformat_minor": 0
}
